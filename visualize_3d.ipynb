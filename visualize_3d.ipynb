{
 "cells": [
  {
   "cell_type": "code",
   "execution_count": 6,
   "metadata": {},
   "outputs": [
    {
     "name": "stdout",
     "output_type": "stream",
     "text": [
      "======\n",
      "Loading NuScenes tables for version v1.0-mini...\n",
      "23 category,\n",
      "8 attribute,\n",
      "4 visibility,\n",
      "911 instance,\n",
      "12 sensor,\n",
      "120 calibrated_sensor,\n",
      "31206 ego_pose,\n",
      "8 log,\n",
      "10 scene,\n",
      "404 sample,\n",
      "31206 sample_data,\n",
      "18538 sample_annotation,\n",
      "4 map,\n",
      "Done loading in 0.223 seconds.\n",
      "======\n",
      "Reverse indexing ...\n",
      "Done reverse indexing in 0.0 seconds.\n",
      "======\n"
     ]
    }
   ],
   "source": [
    "# %matplotlib inline\n",
    "from new_methods.new_methods import My_NuScenes\n",
    "import numpy as np\n",
    "import pythreejs as pjs\n",
    "\n",
    "nusc = My_NuScenes(version='v1.0-mini', dataroot='/data/datasets/nuscenes', verbose=True)"
   ]
  },
  {
   "cell_type": "code",
   "execution_count": 10,
   "metadata": {},
   "outputs": [
    {
     "data": {
      "text/plain": [
       "(159, 34400)"
      ]
     },
     "execution_count": 10,
     "metadata": {},
     "output_type": "execute_result"
    }
   ],
   "source": [
    "idx = 79\n",
    "radar_pc = nusc.make_points_list('r', idx)\n",
    "lidar_pc = nusc.make_points_list('l', idx)\n",
    "total_pc = np.vstack((radar_pc, lidar_pc)).astype(np.float32)\n",
    "pc_num = (len(radar_pc),len(lidar_pc))\n",
    "pc_num"
   ]
  },
  {
   "cell_type": "code",
   "execution_count": 11,
   "metadata": {},
   "outputs": [],
   "source": [
    "def visualize_3d(xyz, pc_num, rgb_radar=None, rgb_lidar=None,\n",
    "                 size_radar=0.1, size_lidar=0.2, height=800, width=800):\n",
    "    # pts\n",
    "    radar_pc = xyz[:pc_num[0]]\n",
    "    lidar_pc = xyz[pc_num[0]:]\n",
    "\n",
    "    # radar pc\n",
    "    radar_points_buf = pjs.BufferAttribute(array=radar_pc)\n",
    "    radar_colors_buf = pjs.BufferAttribute(array=np.array([rgb_radar] * pc_num[0], dtype=np.float32))\n",
    "    radar_geometry = pjs.BufferGeometry(attributes={'position': radar_points_buf, 'color': radar_colors_buf})\n",
    "    radar_material = pjs.PointsMaterial(vertexColors='VertexColors', size=size_radar)\n",
    "    radar_pointCloud = pjs.Points(geometry=radar_geometry, material=radar_material)\n",
    "\n",
    "    # lidar pc\n",
    "    lidar_points_buf = pjs.BufferAttribute(array=lidar_pc)\n",
    "    lidar_colors_buf = pjs.BufferAttribute(array=np.array([rgb_lidar] * pc_num[1], dtype=np.float32))\n",
    "    lidar_geometry = pjs.BufferGeometry(attributes={'position': lidar_points_buf, 'color': lidar_colors_buf})\n",
    "    lidar_material = pjs.PointsMaterial(vertexColors='VertexColors', size=size_lidar)\n",
    "    lidar_pointCloud = pjs.Points(geometry=lidar_geometry, material=lidar_material)\n",
    "\n",
    "    pythreejs_camera = pjs.PerspectiveCamera(up=[1, 0, 1], children=[pjs.DirectionalLight(color='black', intensity=0.5)])\n",
    "    pythreejs_camera.rotateX(np.pi/4)\n",
    "    pythreejs_camera.position = (-15., 0., 30.)\n",
    "    \n",
    "    scene = pjs.Scene(children=[radar_pointCloud, lidar_pointCloud, pythreejs_camera, pjs.AmbientLight(color='#777777')])\n",
    "    axes = pjs.AxesHelper(size=3)\n",
    "    scene.add(axes)\n",
    "        \n",
    "    control = pjs.OrbitControls(controlling=pythreejs_camera)\n",
    "    renderer = pjs.Renderer(camera=pythreejs_camera, scene=scene, width=width, height=height, preserveDrawingBuffer=True, controls=[control])\n",
    "    \n",
    "    return renderer\n"
   ]
  },
  {
   "cell_type": "code",
   "execution_count": 13,
   "metadata": {
    "scrolled": true
   },
   "outputs": [
    {
     "data": {
      "application/vnd.jupyter.widget-view+json": {
       "model_id": "84ac2dcdc7684e1c9d1d01f5cbdaba7f",
       "version_major": 2,
       "version_minor": 0
      },
      "text/plain": [
       "Renderer(camera=PerspectiveCamera(children=(DirectionalLight(color='black', intensity=0.5, position=(0.0, 0.0,…"
      ]
     },
     "execution_count": 13,
     "metadata": {},
     "output_type": "execute_result"
    }
   ],
   "source": [
    "renderer = visualize_3d(total_pc, pc_num, rgb_radar=[1,0,0], rgb_lidar=[0,0,1], size_radar=5,\n",
    "                        size_lidar=0.1)\n",
    "renderer"
   ]
  }
 ],
 "metadata": {
  "kernelspec": {
   "display_name": "Python 3 (ipykernel)",
   "language": "python",
   "name": "python3"
  },
  "language_info": {
   "codemirror_mode": {
    "name": "ipython",
    "version": 3
   },
   "file_extension": ".py",
   "mimetype": "text/x-python",
   "name": "python",
   "nbconvert_exporter": "python",
   "pygments_lexer": "ipython3",
   "version": "3.8.18"
  }
 },
 "nbformat": 4,
 "nbformat_minor": 4
}
